{
 "cells": [
  {
   "cell_type": "markdown",
   "metadata": {},
   "source": [
    "## 1. Complete the following code to find the area of an equilateral triangle. Output should be as displayed"
   ]
  },
  {
   "cell_type": "code",
   "execution_count": 8,
   "metadata": {
    "scrolled": true
   },
   "outputs": [
    {
     "name": "stdout",
     "output_type": "stream",
     "text": [
      "Enter the side of the equilateral triangle: 3\n",
      "3.9\n"
     ]
    }
   ],
   "source": [
    "import math\n",
    "side = float(input(\"Enter the side of the equilateral triangle: \"))\n",
    "area = ((math.sqrt(3))/4)*pow(side,2)\n",
    "print(round(area,1))"
   ]
  },
  {
   "cell_type": "markdown",
   "metadata": {},
   "source": [
    "## 2. Write a program to count the number of each characters in a string"
   ]
  },
  {
   "cell_type": "code",
   "execution_count": 10,
   "metadata": {},
   "outputs": [
    {
     "name": "stdout",
     "output_type": "stream",
     "text": [
      "enter a stringassembly\n",
      "a =1\n",
      "s =2\n",
      "e =1\n",
      "m =1\n",
      "b =1\n",
      "l =1\n",
      "y =1\n"
     ]
    }
   ],
   "source": [
    "string_input=input(\"enter a string\")\n",
    "string_dict={}\n",
    "for ch in string_input:\n",
    "    if ch not in string_dict:\n",
    "        string_dict[ch]=1\n",
    "    else:\n",
    "        string_dict[ch]=string_dict[ch]+1\n",
    "for key, value in string_dict.items():\n",
    "    print(f'{key} ={value}')\n",
    "    "
   ]
  },
  {
   "cell_type": "markdown",
   "metadata": {},
   "source": [
    "## 3. Write a program to find the area and perimeter of a rectangle using functions"
   ]
  },
  {
   "cell_type": "code",
   "execution_count": 20,
   "metadata": {},
   "outputs": [
    {
     "name": "stdout",
     "output_type": "stream",
     "text": [
      "enter length of rectangle2\n",
      "enter breadth of rectangle3\n",
      "Area of rectangle= 6\n",
      "Perimeter of rectangle= 10\n"
     ]
    }
   ],
   "source": [
    "length=int(input(\"enter length of rectangle\"))\n",
    "width=int(input(\"enter breadth of rectangle\"))\n",
    "def area_rect(l,w):\n",
    "    return (l*w)\n",
    "\n",
    "def peri_rect(l,w):\n",
    "    return (2*(l+w))\n",
    "\n",
    "print(\"Area of rectangle=\",area_rect(length,width))\n",
    "print(\"Perimeter of rectangle=\",peri_rect(length,width))"
   ]
  },
  {
   "cell_type": "markdown",
   "metadata": {},
   "source": [
    "## 4. Write a program to print the fibonacci series till a specified number"
   ]
  },
  {
   "cell_type": "code",
   "execution_count": null,
   "metadata": {},
   "outputs": [],
   "source": [
    "limit=int(input(\"enter the number of terms to be printed in fibannoci\"))\n",
    "n1,n2=0,1\n",
    "i=1\n",
    "print(\"fibannoci numbers upto\",limit)\n",
    "while i<=limit:\n",
    "    print(n1,end=\" \")\n",
    "    n3=n1+n2\n",
    "    n1=n2\n",
    "    n2=n3\n",
    "    i=i+1"
   ]
  },
  {
   "cell_type": "markdown",
   "metadata": {},
   "source": [
    "## 5. Complete the following code to find the minimum of 3 number using conditional statements. Output should be as displayed"
   ]
  },
  {
   "cell_type": "code",
   "execution_count": 24,
   "metadata": {},
   "outputs": [
    {
     "name": "stdout",
     "output_type": "stream",
     "text": [
      "Enter three numbers followed by  : -9 -100 -19\n",
      "First number : -9\n",
      "Second number : -100\n",
      "Third number : -19\n",
      "-100  is smallest\n"
     ]
    }
   ],
   "source": [
    "a,b,c = input(\"Enter three numbers followed by  : \").split()\n",
    "\n",
    "print(\"First number :\",a)\n",
    "print(\"Second number :\",b)\n",
    "print(\"Third number :\",c)\n",
    "\n",
    "if (a==b==c):\n",
    "    print(\"Entered numbers are equal\")\n",
    "elif (a<b and a<c):\n",
    "    print(a,\" is smallest\")\n",
    "elif (b<a and b<c):\n",
    "    print(b,\" is smallest\")\n",
    "else:\n",
    "    print(c,\" is smallest\")"
   ]
  },
  {
   "cell_type": "markdown",
   "metadata": {},
   "source": [
    "## 6. Write a program to print star pyramind. The number of rows should be taken as input from the user"
   ]
  },
  {
   "cell_type": "code",
   "execution_count": 25,
   "metadata": {},
   "outputs": [
    {
     "name": "stdout",
     "output_type": "stream",
     "text": [
      "Enter the number of rows 5\n",
      "    * \n",
      "\n",
      "   * * \n",
      "\n",
      "  * * * \n",
      "\n",
      " * * * * \n",
      "\n",
      "* * * * * \n",
      "\n"
     ]
    }
   ],
   "source": [
    "\n",
    "rows =int(input(\"Enter the number of rows \"))\n",
    "s=rows-1\n",
    "for row in range(0,rows):\n",
    "    for space in range(0,s):\n",
    "        print(end=\" \")\n",
    "    s=s-1\n",
    "    for col in range(0,row+1):\n",
    "        print(\"* \",end=\"\")\n",
    "    print(\"\\n\")\n"
   ]
  },
  {
   "cell_type": "markdown",
   "metadata": {},
   "source": [
    "## 7. Complete the following code to convert hour into seconds. Output should be as displayed"
   ]
  },
  {
   "cell_type": "code",
   "execution_count": 26,
   "metadata": {},
   "outputs": [
    {
     "name": "stdout",
     "output_type": "stream",
     "text": [
      "Enter time in Hours:2\n",
      "2  Hour is equal to 7200  Seconds\n"
     ]
    }
   ],
   "source": [
    "def to_seconds(t):\n",
    "    t=t*60*60\n",
    "    return t\n",
    "\n",
    "time_in_hours = int(input(\"Enter time in Hours:\"))\n",
    "print(time_in_hours ,\" Hour is equal to\" ,to_seconds(time_in_hours) ,\" Seconds\")"
   ]
  },
  {
   "cell_type": "markdown",
   "metadata": {},
   "source": [
    "## 8. Write a program to print multiplication table as below"
   ]
  },
  {
   "cell_type": "code",
   "execution_count": 27,
   "metadata": {},
   "outputs": [
    {
     "name": "stdout",
     "output_type": "stream",
     "text": [
      "Enter a number to print the multiplication table:67\n",
      "1 x 67 = 67\n",
      "2 x 67 = 134\n",
      "3 x 67 = 201\n",
      "4 x 67 = 268\n",
      "5 x 67 = 335\n",
      "6 x 67 = 402\n",
      "7 x 67 = 469\n",
      "8 x 67 = 536\n",
      "9 x 67 = 603\n",
      "10 x 67 = 670\n"
     ]
    }
   ],
   "source": [
    "\n",
    "def multi_table(num):\n",
    "    for i in  range(1,11):\n",
    "        print(i,\"x\",num,\"=\",i*num)    \n",
    "    \n",
    "num= int(input('Enter a number to print the multiplication table:'))\n",
    "multi_table(num)"
   ]
  },
  {
   "cell_type": "markdown",
   "metadata": {},
   "source": [
    "## 9. Write a program to take your 5 favorite food as list and print each as 'I like Biriyani'"
   ]
  },
  {
   "cell_type": "code",
   "execution_count": 28,
   "metadata": {},
   "outputs": [
    {
     "name": "stdout",
     "output_type": "stream",
     "text": [
      "Enter favourite food list one by oneBiriyani Chapati Porotta Noodles Pizza\n",
      "'I like  Biriyani ' \n",
      "'I like  Chapati ' \n",
      "'I like  Porotta ' \n",
      "'I like  Noodles ' \n",
      "'I like  Pizza ' \n"
     ]
    }
   ],
   "source": [
    "food_list=input(\"Enter favourite food list one by one\").split()\n",
    "for food in food_list:\n",
    "    print(\"'I like \",food,\"' \")"
   ]
  },
  {
   "cell_type": "code",
   "execution_count": null,
   "metadata": {},
   "outputs": [],
   "source": []
  }
 ],
 "metadata": {
  "kernelspec": {
   "display_name": "Python 3 (ipykernel)",
   "language": "python",
   "name": "python3"
  },
  "language_info": {
   "codemirror_mode": {
    "name": "ipython",
    "version": 3
   },
   "file_extension": ".py",
   "mimetype": "text/x-python",
   "name": "python",
   "nbconvert_exporter": "python",
   "pygments_lexer": "ipython3",
   "version": "3.9.7"
  }
 },
 "nbformat": 4,
 "nbformat_minor": 4
}
